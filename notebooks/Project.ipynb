{
 "cells": [
  {
   "cell_type": "code",
   "execution_count": 26,
   "metadata": {},
   "outputs": [
    {
     "name": "stdout",
     "output_type": "stream",
     "text": [
      "SVM Accuracy = 0.24048096192384769\n",
      "ANN Accuracy = 0.22794117647058823\n"
     ]
    }
   ],
   "source": [
    "#Import packages\n",
    "import numpy as np\n",
    "import pandas as pd\n",
    "\n",
    "from sklearn.utils import shuffle\n",
    "from sklearn.preprocessing import StandardScaler\n",
    "from sklearn.model_selection import train_test_split\n",
    "from sklearn.metrics import accuracy_score\n",
    "from sklearn import svm\n",
    "from sklearn.neural_network import MLPClassifier\n",
    "\n",
    "class DataPreprocessing():\n",
    "    def __init__(self):\n",
    "        pass\n",
    "\n",
    "    def load_data(self):\n",
    "        #Load normal operation data\n",
    "        data = pd.read_excel(\"Data/Know_Normal_Operation.xlsx\", header = 0).dropna()\n",
    "\n",
    "        data = data.to_numpy()\n",
    "\n",
    "        return data\n",
    "\n",
    "    def split_data(self, data):\n",
    "        #Split normal operation data\n",
    "        x = data[:, :-1]\n",
    "        y = data[:, -1]\n",
    "        #Converts y to int\n",
    "        y = y.astype(int)\n",
    "\n",
    "        #Data preprocessing\n",
    "        scaler = StandardScaler()\n",
    "        x = scaler.fit_transform(x)\n",
    "\n",
    "        #Create train and test datasets\n",
    "        X_train, X_test, y_train, y_test = train_test_split(x,\n",
    "                                                            y,\n",
    "                                                            test_size=0.25,\n",
    "                                                            shuffle=True)\n",
    "\n",
    "        return X_train, X_test, y_train, y_test\n",
    "\n",
    "    def split_data_fault(self, data):\n",
    "        #Split actual data\n",
    "        x = data[:, :-1]\n",
    "        y = data[:, -1]\n",
    "        #Converts y to int\n",
    "        y = y.astype(int)\n",
    "\n",
    "        #Data preprocessing\n",
    "        scaler = StandardScaler()\n",
    "        x = scaler.fit_transform(x)\n",
    "\n",
    "        #Create train and test datasets\n",
    "        X_train, X_test, y_train, y_test = train_test_split(x,\n",
    "                                                            y,\n",
    "                                                            test_size=0.25,\n",
    "                                                            shuffle=True)\n",
    "\n",
    "        return X_train, X_test, y_train, y_test\n",
    "        \n",
    "    def load_data_fault(self):\n",
    "        #Load actual data\n",
    "        data = pd.read_excel(\"Data/RawData.xlsx\", header = 0).dropna()\n",
    "\n",
    "        data = data.to_numpy()\n",
    "\n",
    "        return data\n",
    "\n",
    "\n",
    "preprocessor = DataPreprocessing()\n",
    "knowndata = preprocessor.load_data()\n",
    "\n",
    "X_train, X_test, y_train, y_test = preprocessor.split_data(knowndata) #Splits for normal operation\n",
    "\n",
    "clf = svm.SVC(kernel='linear', C=1.0) #SVM model\n",
    "clf.fit(X_train, y_train)\n",
    "\n",
    "faultdata = preprocessor.load_data_fault()\n",
    "X_trainf, X_testf, y_trainf, y_testf = preprocessor.split_data_fault(faultdata) #Splits for actual data\n",
    "\n",
    "y_pred = clf.predict(X_testf)\n",
    "\n",
    "score = accuracy_score(y_testf,y_pred)\n",
    "\n",
    "print(\"SVM Accuracy =\",score)\n",
    "\n",
    "classifier=MLPClassifier(hidden_layer_sizes=(150,),max_iter=300, activation='relu',solver='lbfgs',random_state=1) \n",
    "#First set of hyperparameters tested\n",
    "\n",
    "classifier.fit(X_train, y_train) #ANN model\n",
    "\n",
    "y_pred=classifier.predict(X_trainf)\n",
    "\n",
    "score2 = accuracy_score(y_trainf,y_pred)\n",
    "print(\"ANN Accuracy =\",score2)\n",
    "\n",
    "\n",
    "\n"
   ]
  },
  {
   "cell_type": "code",
   "execution_count": 27,
   "metadata": {},
   "outputs": [
    {
     "name": "stdout",
     "output_type": "stream",
     "text": [
      "ANN Accuracy = 0.20788770053475936\n"
     ]
    },
    {
     "name": "stderr",
     "output_type": "stream",
     "text": [
      "C:\\Users\\ecasp\\anaconda3\\lib\\site-packages\\sklearn\\neural_network\\_multilayer_perceptron.py:500: ConvergenceWarning: lbfgs failed to converge (status=1):\n",
      "STOP: TOTAL NO. of ITERATIONS REACHED LIMIT.\n",
      "\n",
      "Increase the number of iterations (max_iter) or scale the data as shown in:\n",
      "    https://scikit-learn.org/stable/modules/preprocessing.html\n",
      "  self.n_iter_ = _check_optimize_result(\"lbfgs\", opt_res, self.max_iter)\n"
     ]
    }
   ],
   "source": [
    "classifier=MLPClassifier(hidden_layer_sizes=(150,),max_iter=300, activation='identity',solver='lbfgs',random_state=1) \n",
    "#Second set of hyperparameters tested, identity activation\n",
    "\n",
    "classifier.fit(X_train, y_train) #ANN model\n",
    "\n",
    "y_pred=classifier.predict(X_trainf)\n",
    "\n",
    "score2 = accuracy_score(y_trainf,y_pred)\n",
    "print(\"ANN Accuracy =\",score2)"
   ]
  },
  {
   "cell_type": "code",
   "execution_count": 28,
   "metadata": {},
   "outputs": [
    {
     "name": "stdout",
     "output_type": "stream",
     "text": [
      "ANN Accuracy = 0.20989304812834225\n"
     ]
    }
   ],
   "source": [
    "classifier=MLPClassifier(hidden_layer_sizes=(150,),max_iter=300, activation='logistic',solver='lbfgs',random_state=1) \n",
    "#Third set of hyperparameters tested, logistic activation\n",
    "\n",
    "classifier.fit(X_train, y_train) #ANN model\n",
    "\n",
    "y_pred=classifier.predict(X_trainf)\n",
    "\n",
    "score2 = accuracy_score(y_trainf,y_pred)\n",
    "print(\"ANN Accuracy =\",score2)"
   ]
  },
  {
   "cell_type": "code",
   "execution_count": 29,
   "metadata": {},
   "outputs": [
    {
     "name": "stdout",
     "output_type": "stream",
     "text": [
      "ANN Accuracy = 0.21657754010695188\n"
     ]
    }
   ],
   "source": [
    "classifier=MLPClassifier(hidden_layer_sizes=(100,),max_iter=300, activation='tanh',solver='lbfgs',random_state=1) \n",
    "#Fourth set of hyperparameters tested, tanh activation\n",
    "\n",
    "classifier.fit(X_train, y_train) #ANN model\n",
    "\n",
    "y_pred=classifier.predict(X_trainf)\n",
    "\n",
    "score2 = accuracy_score(y_trainf,y_pred)\n",
    "print(\"ANN Accuracy =\",score2)"
   ]
  },
  {
   "cell_type": "code",
   "execution_count": 30,
   "metadata": {},
   "outputs": [
    {
     "name": "stdout",
     "output_type": "stream",
     "text": [
      "ANN Accuracy = 0.25\n"
     ]
    }
   ],
   "source": [
    "classifier=MLPClassifier(hidden_layer_sizes=(100,),max_iter=300, activation='relu',solver='lbfgs',random_state=1) \n",
    "#Fifth set of hyperparameters tested, varying hidden layer sizes to 100\n",
    "\n",
    "classifier.fit(X_train, y_train) #ANN model\n",
    "\n",
    "y_pred=classifier.predict(X_trainf)\n",
    "\n",
    "score2 = accuracy_score(y_trainf,y_pred)\n",
    "print(\"ANN Accuracy =\",score2)"
   ]
  },
  {
   "cell_type": "code",
   "execution_count": 31,
   "metadata": {},
   "outputs": [
    {
     "name": "stdout",
     "output_type": "stream",
     "text": [
      "ANN Accuracy = 0.24398395721925134\n"
     ]
    }
   ],
   "source": [
    "classifier=MLPClassifier(hidden_layer_sizes=(200,),max_iter=300, activation='relu',solver='lbfgs',random_state=1) \n",
    "#Sixth set of hyperparameters tested, varying hidden layer sizes to 200\n",
    "\n",
    "classifier.fit(X_train, y_train) #ANN model\n",
    "\n",
    "y_pred=classifier.predict(X_trainf)\n",
    "\n",
    "score2 = accuracy_score(y_trainf,y_pred)\n",
    "print(\"ANN Accuracy =\",score2)"
   ]
  }
 ],
 "metadata": {
  "interpreter": {
   "hash": "62378c775568eae77e95dd924702ad2100474861ff9bc96e80f97d450aee0dbb"
  },
  "kernelspec": {
   "display_name": "Python 3.9.7 ('base')",
   "language": "python",
   "name": "python3"
  },
  "language_info": {
   "codemirror_mode": {
    "name": "ipython",
    "version": 3
   },
   "file_extension": ".py",
   "mimetype": "text/x-python",
   "name": "python",
   "nbconvert_exporter": "python",
   "pygments_lexer": "ipython3",
   "version": "3.9.7"
  },
  "orig_nbformat": 4
 },
 "nbformat": 4,
 "nbformat_minor": 2
}
