{
 "cells": [
  {
   "cell_type": "code",
   "execution_count": 1,
   "metadata": {},
   "outputs": [],
   "source": [
    "import pandas as pd\n",
    "import numpy as np\n",
    "import random as rd\n",
    "import matplotlib.pyplot as plt\n",
    "import sklearn as sk\n",
    "from sklearn.cluster import KMeans\n",
    "\n",
    "data = pd.read_excel('RawData.xlsx')\n",
    "from sklearn.preprocessing import StandardScaler\n",
    "\n",
    "scaler = StandardScaler()\n",
    "scaled_data = scaler.fit_transform(data)"
   ]
  },
  {
   "cell_type": "code",
   "execution_count": 11,
   "metadata": {},
   "outputs": [
    {
     "name": "stdout",
     "output_type": "stream",
     "text": [
      "0.516041402674847\n",
      "Number of points in cluster 0 = 158\n",
      "Number of points in cluster 1 = 21\n",
      "Number of points in cluster 2 = 657\n",
      "Number of points in cluster 3 = 77\n",
      "Number of points in cluster 4 = 126\n",
      "Number of points in cluster 5 = 439\n",
      "Number of points in cluster 6 = 95\n",
      "Number of points in cluster 7 = 26\n",
      "Number of points in cluster 8 = 120\n",
      "Number of points in cluster 9 = 83\n",
      "Number of points in cluster 10 = 29\n",
      "Number of points in cluster 11 = 80\n",
      "Number of points in cluster 12 = 84\n"
     ]
    }
   ],
   "source": [
    "import sys\n",
    "import numpy\n",
    "from sklearn.metrics import adjusted_rand_score\n",
    "numpy.set_printoptions(threshold=sys.maxsize)\n",
    "kmeans = KMeans(n_clusters=13,random_state=0).fit(scaled_data)\n",
    "cluster_array = kmeans.labels_\n",
    "truelabels2 = pd.read_excel('RawData_Label.xlsx', usecols = ['label'])\n",
    "truelabels = truelabels2.values.flatten()\n",
    "\n",
    "count0 = cluster_array.tolist().count(0)\n",
    "count2 = cluster_array.tolist().count(2)\n",
    "count1 = cluster_array.tolist().count(1)\n",
    "count3 = cluster_array.tolist().count(3)\n",
    "count4 = cluster_array.tolist().count(4)\n",
    "count5 = cluster_array.tolist().count(5)\n",
    "count6 = cluster_array.tolist().count(6)\n",
    "count7 = cluster_array.tolist().count(7)\n",
    "count8 = cluster_array.tolist().count(8)\n",
    "count9 = cluster_array.tolist().count(9)\n",
    "count10 = cluster_array.tolist().count(10)\n",
    "count11 = cluster_array.tolist().count(11)\n",
    "count12 = cluster_array.tolist().count(12)\n",
    "\n",
    "\n",
    "rand = adjusted_rand_score(truelabels, cluster_array)\n",
    "print(rand)\n",
    "\n",
    "print(\"Number of points in cluster 0 =\",count0)\n",
    "print(\"Number of points in cluster 1 =\",count1)\n",
    "print(\"Number of points in cluster 2 =\",count2)\n",
    "print(\"Number of points in cluster 3 =\",count3)\n",
    "print(\"Number of points in cluster 4 =\",count4)\n",
    "print(\"Number of points in cluster 5 =\",count5)\n",
    "print(\"Number of points in cluster 6 =\",count6)\n",
    "print(\"Number of points in cluster 7 =\",count7)\n",
    "print(\"Number of points in cluster 8 =\",count8)\n",
    "print(\"Number of points in cluster 9 =\",count9)\n",
    "print(\"Number of points in cluster 10 =\",count10)\n",
    "print(\"Number of points in cluster 11 =\",count11)\n",
    "print(\"Number of points in cluster 12 =\",count12)\n",
    "\n"
   ]
  }
 ],
 "metadata": {
  "interpreter": {
   "hash": "5f55334c0ec2b6b265735cb6e4e448fe59a4ec2646b0eb29ab8c6a2d945064a9"
  },
  "kernelspec": {
   "display_name": "Python 3.9.7 ('base')",
   "language": "python",
   "name": "python3"
  },
  "language_info": {
   "codemirror_mode": {
    "name": "ipython",
    "version": 3
   },
   "file_extension": ".py",
   "mimetype": "text/x-python",
   "name": "python",
   "nbconvert_exporter": "python",
   "pygments_lexer": "ipython3",
   "version": "3.9.7"
  },
  "orig_nbformat": 4
 },
 "nbformat": 4,
 "nbformat_minor": 2
}
